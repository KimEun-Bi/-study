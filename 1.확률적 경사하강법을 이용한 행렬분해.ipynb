{
 "cells": [
  {
   "cell_type": "code",
   "execution_count": 3,
   "metadata": {},
   "outputs": [],
   "source": [
    "#추천시스템\n",
    "# https://github.com/wikibook/ml-definitive-guide"
   ]
  },
  {
   "cell_type": "markdown",
   "metadata": {},
   "source": [
    "# 확률적 경사 하강법을 이용한 행렬분해"
   ]
  },
  {
   "cell_type": "code",
   "execution_count": 4,
   "metadata": {},
   "outputs": [],
   "source": [
    "import numpy as np"
   ]
  },
  {
   "cell_type": "code",
   "execution_count": 5,
   "metadata": {},
   "outputs": [],
   "source": [
    "R = np.array([[4, np.NaN, np.NaN, 2, np.NaN ],\n",
    "              [np.NaN, 5, np.NaN, 3, 1 ],\n",
    "              [np.NaN, np.NaN, 3, 4, 4 ],\n",
    "              [5, 2, 1, 2, np.NaN ]])"
   ]
  },
  {
   "cell_type": "code",
   "execution_count": 6,
   "metadata": {},
   "outputs": [],
   "source": [
    "#분해 행렬 P&Q 초기화\n",
    "num_users, num_items = R.shape"
   ]
  },
  {
   "cell_type": "code",
   "execution_count": 7,
   "metadata": {},
   "outputs": [
    {
     "data": {
      "text/plain": [
       "4"
      ]
     },
     "execution_count": 7,
     "metadata": {},
     "output_type": "execute_result"
    }
   ],
   "source": [
    "#col\n",
    "num_users"
   ]
  },
  {
   "cell_type": "code",
   "execution_count": 8,
   "metadata": {},
   "outputs": [
    {
     "data": {
      "text/plain": [
       "5"
      ]
     },
     "execution_count": 8,
     "metadata": {},
     "output_type": "execute_result"
    }
   ],
   "source": [
    "#row\n",
    "num_items"
   ]
  },
  {
   "cell_type": "code",
   "execution_count": 9,
   "metadata": {},
   "outputs": [],
   "source": [
    "#잠재요인차원\n",
    "k=3"
   ]
  },
  {
   "cell_type": "code",
   "execution_count": 10,
   "metadata": {},
   "outputs": [],
   "source": [
    "#P와Q 행렬의 크기 지정, 정규 분포를 가진 임의 값으로 입력\n",
    "np.random.seed(1)\n",
    "P = np.random.normal(scale=1./k, size = (num_users,k))\n",
    "Q = np.random.normal(scale=1./k, size = (num_items,k))"
   ]
  },
  {
   "cell_type": "code",
   "execution_count": 11,
   "metadata": {},
   "outputs": [],
   "source": [
    "#행렬값의 위치 인덱스를 추출해 이 인덱스에 있는 실제 R 행렬값과 분해된 P,Q 를 이용해 다시 조합된 예측 행렬값의 RMSE 반환\n",
    "from sklearn.metrics import mean_squared_error"
   ]
  },
  {
   "cell_type": "code",
   "execution_count": 12,
   "metadata": {},
   "outputs": [],
   "source": [
    "def get_rmse(R, P, Q, non_zeros):\n",
    "    error = 0\n",
    "    full_pred_matrix = np.dot(P,Q.T) #행렬 P와 Q의 내적으로 예측 R 생성\n",
    "    \n",
    "    #위치 인덱스를 추출 -> 실제 R행렬과 예측 행렬의 RMSE 추출\n",
    "    x_non_zero_ind = [non_zero[0] for non_zero in non_zeros]\n",
    "    y_non_zero_ind = [non_zero[1] for non_zero in non_zeros]\n",
    "    R_non_zeros = R[x_non_zero_ind, y_non_zero_ind]\n",
    "    full_pred_matrix_non_zeros = full_pred_matrix[x_non_zero_ind, y_non_zero_ind]\n",
    "    mse = mean_squared_error(R_non_zeros, full_pred_matrix_non_zeros)\n",
    "    rmse = np.sqrt(mse)\n",
    "    \n",
    "    return rmse"
   ]
  },
  {
   "cell_type": "code",
   "execution_count": 13,
   "metadata": {},
   "outputs": [],
   "source": [
    "#SGD 기반 행렬 분해 \n",
    "#steps = SGD 반복해서 업데이트할 횟수 \n",
    "#learning_rate = SGD 학습률\n",
    "#r_lambda = L2 regularization 계수\n",
    "steps = 1000\n",
    "learning_rate = 0.01\n",
    "r_lambda = 0.01\n",
    "\n",
    "\n",
    "#R>0인 행 위치, 열위치 값을 non_zeros 리스트에 저장\n",
    "non_zeros = [(i, j, R[i,j]) for i in range(num_users) for j in range(num_items) if R[i,j]>0]"
   ]
  },
  {
   "cell_type": "code",
   "execution_count": 14,
   "metadata": {},
   "outputs": [
    {
     "name": "stdout",
     "output_type": "stream",
     "text": [
      "### iterarion step: 0 rmse: 3.264818196112103\n",
      "### iterarion step: 0 rmse: 3.264370499465061\n",
      "### iterarion step: 0 rmse: 3.261672121442261\n",
      "### iterarion step: 0 rmse: 3.2624527494419877\n",
      "### iterarion step: 0 rmse: 3.2627451924379254\n",
      "### iterarion step: 0 rmse: 3.2624024947875943\n",
      "### iterarion step: 0 rmse: 3.2607390798068367\n",
      "### iterarion step: 0 rmse: 3.2595221381444444\n",
      "### iterarion step: 0 rmse: 3.260954730435898\n",
      "### iterarion step: 0 rmse: 3.2609508165214223\n",
      "### iterarion step: 0 rmse: 3.2607914544151466\n",
      "### iterarion step: 0 rmse: 3.260595390737092\n",
      "### iterarion step: 50 rmse: 1.6672341428098716\n",
      "### iterarion step: 50 rmse: 1.6745479049778667\n",
      "### iterarion step: 50 rmse: 1.6572330212582147\n",
      "### iterarion step: 50 rmse: 1.6520681864262174\n",
      "### iterarion step: 50 rmse: 1.6534861686695055\n",
      "### iterarion step: 50 rmse: 1.6534469058766692\n",
      "### iterarion step: 50 rmse: 1.6525286596767195\n",
      "### iterarion step: 50 rmse: 1.652526781210148\n",
      "### iterarion step: 50 rmse: 1.6559357535642625\n",
      "### iterarion step: 50 rmse: 1.6547013962350485\n",
      "### iterarion step: 50 rmse: 1.6546783113541532\n",
      "### iterarion step: 50 rmse: 1.6520234653530477\n",
      "### iterarion step: 100 rmse: 1.4324210445659997\n",
      "### iterarion step: 100 rmse: 1.4404588972098127\n",
      "### iterarion step: 100 rmse: 1.440501068113402\n",
      "### iterarion step: 100 rmse: 1.4405530076069943\n",
      "### iterarion step: 100 rmse: 1.4403783102737664\n",
      "### iterarion step: 100 rmse: 1.4386525048282897\n",
      "### iterarion step: 100 rmse: 1.439124236668751\n",
      "### iterarion step: 100 rmse: 1.439852180129478\n",
      "### iterarion step: 100 rmse: 1.4456870896305332\n",
      "### iterarion step: 100 rmse: 1.4429388501355722\n",
      "### iterarion step: 100 rmse: 1.4430460139200274\n",
      "### iterarion step: 100 rmse: 1.4396607538854451\n",
      "### iterarion step: 150 rmse: 1.377156275948719\n",
      "### iterarion step: 150 rmse: 1.3839612118038982\n",
      "### iterarion step: 150 rmse: 1.3839804505654103\n",
      "### iterarion step: 150 rmse: 1.3840310160352822\n",
      "### iterarion step: 150 rmse: 1.383827987511284\n",
      "### iterarion step: 150 rmse: 1.381594169410814\n",
      "### iterarion step: 150 rmse: 1.382033706728006\n",
      "### iterarion step: 150 rmse: 1.3833196677569715\n",
      "### iterarion step: 150 rmse: 1.3892815805303262\n",
      "### iterarion step: 150 rmse: 1.3872132565490647\n",
      "### iterarion step: 150 rmse: 1.3873128636982002\n",
      "### iterarion step: 150 rmse: 1.38371965318992\n",
      "### iterarion step: 200 rmse: 1.340080481961616\n",
      "### iterarion step: 200 rmse: 1.3448643938870841\n",
      "### iterarion step: 200 rmse: 1.344882146771096\n",
      "### iterarion step: 200 rmse: 1.3448809523361718\n",
      "### iterarion step: 200 rmse: 1.3446840153922826\n",
      "### iterarion step: 200 rmse: 1.3415288061104877\n",
      "### iterarion step: 200 rmse: 1.3420907343621065\n",
      "### iterarion step: 200 rmse: 1.3439823830076914\n",
      "### iterarion step: 200 rmse: 1.3493618377765322\n",
      "### iterarion step: 200 rmse: 1.3481282946204642\n",
      "### iterarion step: 200 rmse: 1.3480291529402368\n",
      "### iterarion step: 200 rmse: 1.34502133338857\n",
      "### iterarion step: 250 rmse: 1.3393276674693795\n",
      "### iterarion step: 250 rmse: 1.3429249182610339\n",
      "### iterarion step: 250 rmse: 1.3429092217061376\n",
      "### iterarion step: 250 rmse: 1.3429069495955075\n",
      "### iterarion step: 250 rmse: 1.3427498291849655\n",
      "### iterarion step: 250 rmse: 1.3390654962769697\n",
      "### iterarion step: 250 rmse: 1.3400260916978808\n",
      "### iterarion step: 250 rmse: 1.3420324798849508\n",
      "### iterarion step: 250 rmse: 1.346384502766422\n",
      "### iterarion step: 250 rmse: 1.3461346020764227\n",
      "### iterarion step: 250 rmse: 1.3460141319656471\n",
      "### iterarion step: 250 rmse: 1.3433957762852922\n",
      "### iterarion step: 300 rmse: 1.360081663298496\n",
      "### iterarion step: 300 rmse: 1.3632863514578424\n",
      "### iterarion step: 300 rmse: 1.3632687381103292\n",
      "### iterarion step: 300 rmse: 1.3632668829968182\n",
      "### iterarion step: 300 rmse: 1.3632263626370602\n",
      "### iterarion step: 300 rmse: 1.3595771342248248\n",
      "### iterarion step: 300 rmse: 1.3613046792145285\n",
      "### iterarion step: 300 rmse: 1.3627743497967595\n",
      "### iterarion step: 300 rmse: 1.3662279968348907\n",
      "### iterarion step: 300 rmse: 1.3661677487012887\n",
      "### iterarion step: 300 rmse: 1.3662953015751935\n",
      "### iterarion step: 300 rmse: 1.3638342306652311\n",
      "### iterarion step: 350 rmse: 1.3810154895740552\n",
      "### iterarion step: 350 rmse: 1.3841835791489203\n",
      "### iterarion step: 350 rmse: 1.3841880234798198\n",
      "### iterarion step: 350 rmse: 1.3841439262112771\n",
      "### iterarion step: 350 rmse: 1.384228054037397\n",
      "### iterarion step: 350 rmse: 1.3808869754074156\n",
      "### iterarion step: 350 rmse: 1.3833983697828962\n",
      "### iterarion step: 350 rmse: 1.3840378870913195\n",
      "### iterarion step: 350 rmse: 1.3869838838014967\n",
      "### iterarion step: 350 rmse: 1.3864771086993604\n",
      "### iterarion step: 350 rmse: 1.3868441433077172\n",
      "### iterarion step: 350 rmse: 1.3845706451819397\n",
      "### iterarion step: 400 rmse: 1.3901065395133323\n",
      "### iterarion step: 400 rmse: 1.3931883348340512\n",
      "### iterarion step: 400 rmse: 1.3932142485087677\n",
      "### iterarion step: 400 rmse: 1.3930922752561563\n",
      "### iterarion step: 400 rmse: 1.3932651093302377\n",
      "### iterarion step: 400 rmse: 1.3902350567468615\n",
      "### iterarion step: 400 rmse: 1.3932415785032997\n",
      "### iterarion step: 400 rmse: 1.3931933052113585\n",
      "### iterarion step: 400 rmse: 1.395922247305054\n",
      "### iterarion step: 400 rmse: 1.394860599921612\n",
      "### iterarion step: 400 rmse: 1.3953556540161836\n",
      "### iterarion step: 400 rmse: 1.3933861147060147\n",
      "### iterarion step: 450 rmse: 1.3877486957025942\n",
      "### iterarion step: 450 rmse: 1.3904559534268075\n",
      "### iterarion step: 450 rmse: 1.3904966988749015\n",
      "### iterarion step: 450 rmse: 1.390266572038331\n",
      "### iterarion step: 450 rmse: 1.3905006200709555\n",
      "### iterarion step: 450 rmse: 1.3876702308931872\n",
      "### iterarion step: 450 rmse: 1.390914790221767\n",
      "### iterarion step: 450 rmse: 1.3904755539187188\n",
      "### iterarion step: 450 rmse: 1.3930826425880867\n",
      "### iterarion step: 450 rmse: 1.3914464662997932\n",
      "### iterarion step: 450 rmse: 1.3920959109974587\n",
      "### iterarion step: 450 rmse: 1.3905741568922962\n",
      "### iterarion step: 500 rmse: 1.3815667687673232\n",
      "### iterarion step: 500 rmse: 1.3836783718778534\n",
      "### iterarion step: 500 rmse: 1.3837254773771164\n",
      "### iterarion step: 500 rmse: 1.3833686434932628\n",
      "### iterarion step: 500 rmse: 1.3836501246730495\n",
      "### iterarion step: 500 rmse: 1.3809014635732757\n",
      "### iterarion step: 500 rmse: 1.384263999023698\n",
      "### iterarion step: 500 rmse: 1.3836635077449162\n",
      "### iterarion step: 500 rmse: 1.386143678640359\n",
      "### iterarion step: 500 rmse: 1.3838655773313269\n",
      "### iterarion step: 500 rmse: 1.3847816262980566\n",
      "### iterarion step: 500 rmse: 1.3838250726191164\n",
      "### iterarion step: 550 rmse: 1.3793454803727916\n",
      "### iterarion step: 550 rmse: 1.3808665979305657\n",
      "### iterarion step: 550 rmse: 1.3809127447850742\n",
      "### iterarion step: 550 rmse: 1.3804329465476801\n",
      "### iterarion step: 550 rmse: 1.3807524941773044\n",
      "### iterarion step: 550 rmse: 1.3780177042867774\n",
      "### iterarion step: 550 rmse: 1.381460217597652\n",
      "### iterarion step: 550 rmse: 1.3807967009245896\n",
      "### iterarion step: 550 rmse: 1.3831295207149692\n",
      "### iterarion step: 550 rmse: 1.3802158713034935\n",
      "### iterarion step: 550 rmse: 1.3814609345024838\n",
      "### iterarion step: 550 rmse: 1.3810877234854397\n",
      "### iterarion step: 600 rmse: 1.38455508545932\n",
      "### iterarion step: 600 rmse: 1.3856338664827779\n",
      "### iterarion step: 600 rmse: 1.3856755722617076\n",
      "### iterarion step: 600 rmse: 1.385092391940393\n",
      "### iterarion step: 600 rmse: 1.3854421110352912\n",
      "### iterarion step: 600 rmse: 1.3827089758531077\n",
      "### iterarion step: 600 rmse: 1.3862309868031866\n",
      "### iterarion step: 600 rmse: 1.3855029631709925\n",
      "### iterarion step: 600 rmse: 1.3876573500032936\n",
      "### iterarion step: 600 rmse: 1.3842180583466035\n",
      "### iterarion step: 600 rmse: 1.3857968717112394\n",
      "### iterarion step: 600 rmse: 1.3859291295442255\n",
      "### iterarion step: 650 rmse: 1.3967960119569467\n",
      "### iterarion step: 650 rmse: 1.3975921381337861\n",
      "### iterarion step: 650 rmse: 1.3976290427149516\n",
      "### iterarion step: 650 rmse: 1.3969649046937909\n",
      "### iterarion step: 650 rmse: 1.397338837201351\n",
      "### iterarion step: 650 rmse: 1.3946248421744671\n",
      "### iterarion step: 650 rmse: 1.3982472649365532\n",
      "### iterarion step: 650 rmse: 1.3974100198241448\n",
      "### iterarion step: 650 rmse: 1.3993401449039429\n",
      "### iterarion step: 650 rmse: 1.3955106485297954\n",
      "### iterarion step: 650 rmse: 1.397426931160626\n",
      "### iterarion step: 650 rmse: 1.3979503119187262\n",
      "### iterarion step: 700 rmse: 1.4144412814447467\n",
      "### iterarion step: 700 rmse: 1.415071821283663\n",
      "### iterarion step: 700 rmse: 1.4151048522045795\n",
      "### iterarion step: 700 rmse: 1.4143777380444311\n"
     ]
    },
    {
     "name": "stdout",
     "output_type": "stream",
     "text": [
      "### iterarion step: 700 rmse: 1.4147716877761511\n",
      "### iterarion step: 700 rmse: 1.4121022885272216\n",
      "### iterarion step: 700 rmse: 1.4158526586248263\n",
      "### iterarion step: 700 rmse: 1.414855817585214\n",
      "### iterarion step: 700 rmse: 1.416508996859151\n",
      "### iterarion step: 700 rmse: 1.412397236433255\n",
      "### iterarion step: 700 rmse: 1.4146779195534003\n",
      "### iterarion step: 700 rmse: 1.415487799863068\n",
      "### iterarion step: 750 rmse: 1.4363085424148079\n",
      "### iterarion step: 750 rmse: 1.4368491445080773\n",
      "### iterarion step: 750 rmse: 1.4368793824635695\n",
      "### iterarion step: 750 rmse: 1.4361007744923164\n",
      "### iterarion step: 750 rmse: 1.4365116463946859\n",
      "### iterarion step: 750 rmse: 1.4339120005085042\n",
      "### iterarion step: 750 rmse: 1.4378128729862163\n",
      "### iterarion step: 750 rmse: 1.4366152326552926\n",
      "### iterarion step: 750 rmse: 1.4379370248184482\n",
      "### iterarion step: 750 rmse: 1.433619871439622\n",
      "### iterarion step: 750 rmse: 1.4363110354004855\n",
      "### iterarion step: 750 rmse: 1.4373246573722052\n",
      "### iterarion step: 800 rmse: 1.4619007496629735\n",
      "### iterarion step: 800 rmse: 1.4623994917281182\n",
      "### iterarion step: 800 rmse: 1.4624277814729334\n",
      "### iterarion step: 800 rmse: 1.4616035531454605\n",
      "### iterarion step: 800 rmse: 1.462028577324919\n",
      "### iterarion step: 800 rmse: 1.4595215876575844\n",
      "### iterarion step: 800 rmse: 1.4635867458098049\n",
      "### iterarion step: 800 rmse: 1.4621592188629327\n",
      "### iterarion step: 800 rmse: 1.463090189495093\n",
      "### iterarion step: 800 rmse: 1.4586285670232262\n",
      "### iterarion step: 800 rmse: 1.4617879578987543\n",
      "### iterarion step: 800 rmse: 1.4629395559802032\n",
      "### iterarion step: 850 rmse: 1.4911377725625785\n",
      "### iterarion step: 850 rmse: 1.4916263626315627\n",
      "### iterarion step: 850 rmse: 1.4916533056655983\n",
      "### iterarion step: 850 rmse: 1.4907861654872787\n",
      "### iterarion step: 850 rmse: 1.4912219842867365\n",
      "### iterarion step: 850 rmse: 1.4888273504804765\n",
      "### iterarion step: 850 rmse: 1.4930631790533528\n",
      "### iterarion step: 850 rmse: 1.4913879894023265\n",
      "### iterarion step: 850 rmse: 1.4918534883053018\n",
      "### iterarion step: 850 rmse: 1.4873092461079471\n",
      "### iterarion step: 850 rmse: 1.4910028980807561\n",
      "### iterarion step: 850 rmse: 1.4922364958582086\n",
      "### iterarion step: 900 rmse: 1.524079670228158\n",
      "### iterarion step: 900 rmse: 1.5245798126706813\n",
      "### iterarion step: 900 rmse: 1.5246058616443772\n",
      "### iterarion step: 900 rmse: 1.523698824787337\n",
      "### iterarion step: 900 rmse: 1.524140326269571\n",
      "### iterarion step: 900 rmse: 1.521872847286048\n",
      "### iterarion step: 900 rmse: 1.5262813981597778\n",
      "### iterarion step: 900 rmse: 1.5243509486507143\n",
      "### iterarion step: 900 rmse: 1.5242446019780045\n",
      "### iterarion step: 900 rmse: 1.519696600911556\n",
      "### iterarion step: 900 rmse: 1.5239988221440626\n",
      "### iterarion step: 900 rmse: 1.5252631627122026\n",
      "### iterarion step: 950 rmse: 1.5606462226468476\n",
      "### iterarion step: 950 rmse: 1.5611709309651856\n",
      "### iterarion step: 950 rmse: 1.561196433043761\n",
      "### iterarion step: 950 rmse: 1.5602580907823849\n",
      "### iterarion step: 950 rmse: 1.5606967684941289\n",
      "### iterarion step: 950 rmse: 1.558563342773144\n",
      "### iterarion step: 950 rmse: 1.5631452802253911\n",
      "### iterarion step: 950 rmse: 1.5609614996070544\n",
      "### iterarion step: 950 rmse: 1.5601206052951042\n",
      "### iterarion step: 950 rmse: 1.5556815186881174\n",
      "### iterarion step: 950 rmse: 1.5606775276209979\n",
      "### iterarion step: 950 rmse: 1.56192301350969\n"
     ]
    }
   ],
   "source": [
    "#SGD 기법으로 P와Q 매트릭스 업데이트 ->50 회 반복 할때마다 오류값 출력\n",
    "for step in range(steps):\n",
    "    for i,j,r in non_zeros:\n",
    "        eij = r - np.dot(P[i,:], Q[j,:].T) #실제 값과 예측값의 차이인 오류 값을 구함\n",
    "        P[i,:] = P[i, :] + learning_rate*(eij*Q[j,:]-r_lambda*P[i,:]) #regularization을 반영한 SGD 업데이트 공식 적용\n",
    "        Q[i,:] = Q[i, :] + learning_rate*(eij*Q[j,:]-r_lambda*Q[i,:])\n",
    "        \n",
    "        rmse = get_rmse(R,P,Q,non_zeros)\n",
    "        if(step%50) == 0:\n",
    "            print(\"### iterarion step:\", step,\"rmse:\",rmse)"
   ]
  },
  {
   "cell_type": "code",
   "execution_count": 15,
   "metadata": {},
   "outputs": [
    {
     "name": "stdout",
     "output_type": "stream",
     "text": [
      "예측 행렬:\n",
      " [[ 3.784  0.769  2.095  2.309 -0.55 ]\n",
      " [ 2.389  5.173  3.897  2.185 -0.48 ]\n",
      " [ 2.449  4.595  3.704  1.922 -0.357]\n",
      " [ 3.933  1.239  2.366  2.581 -0.647]]\n"
     ]
    }
   ],
   "source": [
    "#P*Q.T 예측 행렬 출력\n",
    "pred_matrix = np.dot(P,Q.T)\n",
    "print('예측 행렬:\\n', np.round(pred_matrix,3))"
   ]
  }
 ],
 "metadata": {
  "kernelspec": {
   "display_name": "Python 3",
   "language": "python",
   "name": "python3"
  },
  "language_info": {
   "codemirror_mode": {
    "name": "ipython",
    "version": 3
   },
   "file_extension": ".py",
   "mimetype": "text/x-python",
   "name": "python",
   "nbconvert_exporter": "python",
   "pygments_lexer": "ipython3",
   "version": "3.7.6"
  }
 },
 "nbformat": 4,
 "nbformat_minor": 4
}
